{
  "nbformat": 4,
  "nbformat_minor": 0,
  "metadata": {
    "colab": {
      "name": "Preprocessing.ipynb",
      "provenance": [],
      "collapsed_sections": []
    },
    "kernelspec": {
      "name": "python3",
      "display_name": "Python 3"
    },
    "language_info": {
      "name": "python"
    }
  },
  "cells": [
    {
      "cell_type": "markdown",
      "metadata": {
        "id": "-qpL7GIOKsVw"
      },
      "source": [
        "## **Prétraiement**"
      ]
    },
    {
      "cell_type": "markdown",
      "metadata": {
        "id": "OvSyBEwZKsVy"
      },
      "source": [
        "### **Identic Columns**"
      ]
    },
    {
      "cell_type": "code",
      "metadata": {
        "colab": {
          "base_uri": "https://localhost:8080/"
        },
        "id": "gvxggDZSKsVy",
        "outputId": "699a8e2a-17fa-4feb-ad37-c00267c5e7fa"
      },
      "source": [
        "def get_rate_IV(df_train_complete):\n",
        "  nbr=df_train_complete.shape[0]\n",
        "  df_col_elim =pd.DataFrame()\n",
        "  for i in range(df_train_complete.shape[1]):\n",
        "    max_rate_IV= ((df_train_complete.iloc[:,i].value_counts()).max())/nbr\n",
        "    df_col_elim=df_col_elim.append({\"Column\":df_train_complete.columns[i],\"Rate_M_IV\":max_rate_IV},ignore_index=True)##\n",
        "  return df_col_elim\n",
        "\n",
        "def eliminate_rate_IV(df_train_complete,df_test_complete):\n",
        "  df_col_elim = get_rate_IV(df_train_complete)\n",
        "  #print(df_col_elim[df_col_elim[\"Rate_M_IV\" ]> 0.99])\n",
        "  df_col_elim2= get_rate_IV(df_test_complete)\n",
        "  #print(df_col_elim2[df_col_elim2[\"Rate_M_IV\" ]> 0.99])\n",
        "  int_df = pd.merge(df_col_elim[df_col_elim[\"Rate_M_IV\" ]> 0.99], df_col_elim2[df_col_elim2[\"Rate_M_IV\" ]> 0.99], how ='inner', on =[\"Column\"]) \n",
        "  print(int_df)\n",
        "  df_train_complete.drop(int_df.Column, axis=1, inplace=True)\n",
        "  df_test_complete.drop(int_df.Column, axis=1, inplace=True)\n",
        "\n",
        "eliminate_rate_IV(train,test)\n"
      ],
      "execution_count": null,
      "outputs": [
        {
          "output_type": "stream",
          "text": [
            "   Column  Rate_M_IV_x  Rate_M_IV_y\n",
            "0    V107     0.999048     1.000000\n",
            "1    V108     0.994415     0.993643\n",
            "2    V111     0.996544     0.996438\n",
            "3    V112     0.994400     0.992824\n",
            "4    V113     0.995983     0.995451\n",
            "5    V117     0.998237     0.999045\n",
            "6    V118     0.997795     0.997697\n",
            "7    V119     0.998154     0.998540\n",
            "8    V120     0.997761     0.998234\n",
            "9    V121     0.995011     0.993714\n",
            "10   V122     0.997131     0.997085\n",
            "11   V305     0.999973     0.999992\n"
          ],
          "name": "stdout"
        }
      ]
    },
    {
      "cell_type": "markdown",
      "metadata": {
        "id": "c2SoHjaoKsV0"
      },
      "source": [
        "### **Missing Values**"
      ]
    },
    {
      "cell_type": "code",
      "metadata": {
        "id": "cwe-VXkiKsV0"
      },
      "source": [
        "def detectmissing(df):\n",
        "    summary = pd.DataFrame(df.dtypes,columns=['dtypes']) # (the data, the name of column, the index set them by his own)\n",
        "    summary = summary.reset_index()\n",
        "    summary['Name'] = summary['index']\n",
        "    summary = summary[['Name','dtypes']] #we ignore the column \"index\"\n",
        "    summary['Missing(%)'] = (df.isnull().sum().values / df.shape[0])*100  \n",
        "    #summary['Uniques'] = df.nunique().values\n",
        "    return summary"
      ],
      "execution_count": null,
      "outputs": []
    },
    {
      "cell_type": "code",
      "metadata": {
        "id": "SzidemTsKsV0"
      },
      "source": [
        "summary_train=detectmissing(train)"
      ],
      "execution_count": null,
      "outputs": []
    },
    {
      "cell_type": "code",
      "metadata": {
        "id": "txtg1FutKsV1"
      },
      "source": [
        "summary_test = detectmissing(test)"
      ],
      "execution_count": null,
      "outputs": []
    },
    {
      "cell_type": "markdown",
      "metadata": {
        "id": "2tVPPSf3KsV1"
      },
      "source": [
        " **Delete the columns with rate of missing values >=80**"
      ]
    },
    {
      "cell_type": "code",
      "metadata": {
        "id": "qZFT8WGJKsV2"
      },
      "source": [
        "def delete_col_80(df_train_complete,df_test_complete,summary_train):\n",
        "  col_80= summary_train[summary_train[\"Missing(%)\"]>= 80][\"Name\"].tolist()\n",
        "  df_train_complete.drop(col_80, axis=1, inplace=True)\n",
        "  df_test_complete.drop(col_80, axis=1, inplace=True)\n",
        "\n",
        "\n",
        "delete_col_80(train,test,summary_train)"
      ],
      "execution_count": null,
      "outputs": []
    },
    {
      "cell_type": "markdown",
      "metadata": {
        "id": "puRp4cLhKsV2"
      },
      "source": [
        " **Impute Missing values**"
      ]
    },
    {
      "cell_type": "code",
      "metadata": {
        "id": "_aEC1it0KsV2"
      },
      "source": [
        "def imputeDM (train, test):\n",
        "  Y = train.isFraud  \n",
        "  train.drop(columns = ['isFraud'],inplace=True) \n",
        "  cat_cols = train.select_dtypes(include = 'object').columns \n",
        "  for i in cat_cols:\n",
        "    train[i] = train[i].fillna(train[i].mode()[0])\n",
        "    test[i] = test[i].fillna(train[i].mode()[0])\n",
        "\n",
        "  num_cols = train.select_dtypes(include=np.number).columns \n",
        "  for i in num_cols:\n",
        "    train[i] = train[i].fillna(train[i].median())\n",
        "    test[i] = test[i].fillna(train[i].median())\n",
        "\n",
        "  train['isFraud'] = Y\n",
        "  return (train, test)\n",
        "\n",
        "train, test = imputeDM (train, test)\n",
        "       "
      ],
      "execution_count": null,
      "outputs": []
    },
    {
      "cell_type": "markdown",
      "metadata": {
        "id": "sG1lXHwwKsV3"
      },
      "source": [
        "### **Outliers**"
      ]
    },
    {
      "cell_type": "code",
      "metadata": {
        "colab": {
          "base_uri": "https://localhost:8080/"
        },
        "id": "jUKBsQtjKsV4",
        "outputId": "3c4d307a-38c1-4b5e-9795-a2b42dc6e982"
      },
      "source": [
        "print(train[train[\"isFraud\"]==1 ].shape)"
      ],
      "execution_count": null,
      "outputs": [
        {
          "output_type": "stream",
          "text": [
            "(20663, 348)\n"
          ],
          "name": "stdout"
        }
      ]
    },
    {
      "cell_type": "code",
      "metadata": {
        "id": "ciOHIuHSKsV_"
      },
      "source": [
        "train.drop(train[train.dist1>6000].index, axis=0, inplace=True)\n",
        "train.drop(train[train.TransactionAmt>10000].index, axis=0, inplace=True)\n",
        "train.loc[train.C1 > 3000, \"C1\" ] = train.loc[train.C1 <= 3000, \"C1\" ].mean()\n",
        "train.loc[train.C2 > 3000, \"C2\" ] = train.loc[train.C2 <= 3000, \"C2\" ].mean()\n",
        "train.loc[train.C4 > 1400, \"C4\" ] = train.loc[train.C4 <= 1400, \"C4\" ].mean()\n",
        "train.loc[train.C6 > 1600, \"C6\" ] = train.loc[train.C6 <= 1600, \"C6\" ].mean()\n",
        "train.loc[train.C7 > 1400, \"C7\" ] = train.loc[train.C7 <= 1400, \"C7\" ].mean()\n",
        "train.loc[train.C8 > 1000, \"C8\" ] = train.loc[train.C8 <= 1000, \"C8\" ].mean()\n",
        "train.loc[train.C10 > 2000, \"C10\" ] = train.loc[train.C10 <= 2000, \"C10\" ].mean()\n",
        "train.loc[train.C11 > 2000, \"C11\" ] = train.loc[train.C11 <= 2000, \"C11\" ].mean()\n",
        "train.loc[train.C12 > 2000, \"C12\" ] = train.loc[train.C12 <= 2000, \"C12\" ].mean()\n",
        "train.loc[train.C13 > 1200, \"C13\" ] = train.loc[train.C13 <= 1200, \"C13\" ].mean()\n",
        "train.loc[train.C14 > 800, \"C14\" ] = train.loc[train.C14 <= 800, \"C14\" ].mean()"
      ],
      "execution_count": null,
      "outputs": []
    },
    {
      "cell_type": "code",
      "metadata": {
        "colab": {
          "base_uri": "https://localhost:8080/"
        },
        "id": "w4vCSQA-0ROo",
        "outputId": "d22a6fee-dcef-4dd5-a997-304c9c21dc17"
      },
      "source": [
        "print(train[train[\"isFraud\"]==1 ].shape)"
      ],
      "execution_count": null,
      "outputs": [
        {
          "output_type": "stream",
          "text": [
            "(20663, 348)\n"
          ],
          "name": "stdout"
        }
      ]
    },
    {
      "cell_type": "markdown",
      "metadata": {
        "id": "Ap3IlV1gHk2x"
      },
      "source": [
        "### **labelEncoder**\n",
        "\n",
        "---\n",
        "\n",
        "\n",
        "\n",
        "\n"
      ]
    },
    {
      "cell_type": "code",
      "metadata": {
        "id": "EyTSo7mkH5PY"
      },
      "source": [
        "def LabelEncode(train,test):\n",
        "  encoders = dict() ##La fonction dict () crée un dictionnaire.\n",
        "  cat_cols = train.select_dtypes(include = 'object').columns\n",
        "  for col_name in cat_cols :\n",
        "    series_train = train[col_name]\n",
        "    series_test = test[col_name]\n",
        "\n",
        "    label_encoder = LabelEncoder()\n",
        "    label_encoder.fit(list(series_train.astype(str).values) + list(series_test.astype(str).values))\n",
        "        \n",
        "    train[col_name] = pd.Series(\n",
        "    label_encoder.transform(series_train),\n",
        "    index=series_train.index\n",
        "    )\n",
        "    test[col_name] = pd.Series(\n",
        "    label_encoder.transform(series_test),\n",
        "    index=series_test.index\n",
        "    )\n",
        "  return (train, test)\n",
        "\n",
        "train, test=LabelEncode(train,test)"
      ],
      "execution_count": null,
      "outputs": []
    },
    {
      "cell_type": "markdown",
      "metadata": {
        "id": "CIpdv3ewhGfw"
      },
      "source": [
        "### **Normalisation**"
      ]
    },
    {
      "cell_type": "code",
      "metadata": {
        "id": "KeF1zVGchF6M"
      },
      "source": [
        "from sklearn.preprocessing import minmax_scale\n",
        "\n",
        "def normalize (train, test):\n",
        "  cols = test.columns.tolist()\n",
        "  cols.remove(\"TransactionID\")\n",
        "\n",
        "  for col in cols:\n",
        "    train[col] = (minmax_scale(train[col]))  #normalisation scaling ordre de grandeur \n",
        "    test[col] = (minmax_scale(test[col]) )\n",
        "  #return (train, test)\n",
        "\n",
        "#train , test = \n",
        "normalize (train, test)"
      ],
      "execution_count": null,
      "outputs": []
    },
    {
      "cell_type": "markdown",
      "metadata": {
        "id": "MN_LlZDVVLnN"
      },
      "source": [
        "### **Réduire la mémoire**"
      ]
    },
    {
      "cell_type": "code",
      "metadata": {
        "id": "4P4VkK730lF3"
      },
      "source": [
        "# credit to @guiferviz for the memory reduction \n",
        "def memory_usage_mb(df, *args, **kwargs):\n",
        "    \"\"\"Dataframe memory usage in MB. \"\"\"\n",
        "    return df.memory_usage(*args, **kwargs).sum() / 1024**2\n",
        "\n",
        "def reduce_memory_usage(df, deep=True, verbose=True):\n",
        "    # All types that we want to change for \"lighter\" ones.\n",
        "    # int8 and float16 are not include because we cannot reduce\n",
        "    # those data types.\n",
        "    # float32 is not include because float16 has too low precision.\n",
        "    numeric2reduce = [\"int16\", \"int32\", \"int64\", \"float64\"]\n",
        "    start_mem = 0\n",
        "    if verbose:\n",
        "        start_mem = memory_usage_mb(df, deep=deep)\n",
        "\n",
        "    for col, col_type in df.dtypes.iteritems():\n",
        "        best_type = None\n",
        "        if col_type in numeric2reduce:\n",
        "            downcast = \"integer\" if \"int\" in str(col_type) else \"float\"\n",
        "            df[col] = pd.to_numeric(df[col], downcast=downcast)\n",
        "            best_type = df[col].dtype.name\n",
        "        # Log the conversion performed.\n",
        "        if verbose and best_type is not None and best_type != str(col_type):\n",
        "            print(f\"Column '{col}' converted from {col_type} to {best_type}\")\n",
        "\n",
        "    if verbose:\n",
        "        end_mem = memory_usage_mb(df, deep=deep)\n",
        "        diff_mem = start_mem - end_mem\n",
        "        percent_mem = 100 * diff_mem / start_mem\n",
        "        #print(f\"Memory usage decreased from\"\n",
        "        #      f\" {start_mem:.2f}MB to {end_mem:.2f}MB\"\n",
        "        #      f\" ({diff_mem:.2f}MB, {percent_mem:.2f}% reduction)\")\n",
        "        \n",
        "    return df"
      ],
      "execution_count": null,
      "outputs": []
    },
    {
      "cell_type": "code",
      "metadata": {
        "id": "DcOkN5sxKw8N"
      },
      "source": [
        "train = reduce_memory_usage(train)\n",
        "test = reduce_memory_usage(test) "
      ],
      "execution_count": null,
      "outputs": []
    },
    {
      "cell_type": "markdown",
      "metadata": {
        "id": "g8ruD5FdIUfr"
      },
      "source": [
        "### **ACP**"
      ]
    },
    {
      "cell_type": "code",
      "metadata": {
        "id": "G3jp4wLvLb_v"
      },
      "source": [
        "train.reset_index()\n",
        "Vxx = train.loc[:,\"V1\":\"V321\"]  "
      ],
      "execution_count": null,
      "outputs": []
    },
    {
      "cell_type": "code",
      "metadata": {
        "id": "EYTQkVQIbDJS"
      },
      "source": [
        "def PCA_change(df, cols, n_components, prefix='PCA_', rand_seed=4):\n",
        "    #pca = PCA(random_state=rand_seed)\n",
        "    pca = PCA(n_components=n_components, random_state=rand_seed)\n",
        "    principalComponents = pca.fit_transform(df[cols])\n",
        "   \n",
        "   \n",
        "    principalDf = pd.DataFrame(principalComponents)\n",
        "\n",
        "    df.drop(cols, axis=1, inplace=True)\n",
        "\n",
        "    principalDf.rename(columns=lambda x: str(prefix)+str(x), inplace=True)\n",
        "\n",
        "    df = df.merge(principalDf,right_index =True, left_index =True)\n",
        "    \n",
        "    return (df,pca)\n",
        "\n",
        "\n",
        "\n"
      ],
      "execution_count": null,
      "outputs": []
    },
    {
      "cell_type": "markdown",
      "metadata": {
        "id": "dvewcUGhMyN4"
      },
      "source": [
        "**Ne pas exécuter cette section**\n",
        "cette section sert à trouver la valeur du paramètre \"n_components\" de l'ACP"
      ]
    },
    {
      "cell_type": "code",
      "metadata": {
        "colab": {
          "base_uri": "https://localhost:8080/",
          "height": 363
        },
        "id": "DYq396TXvtMN",
        "outputId": "466a306c-c532-4ce8-d683-7c74b1b838c4"
      },
      "source": [
        "train,pca = PCA_change(train, Vxx.columns,n_components=Vxx.shape[1], prefix='PCA_V_',rand_seed=4)\n",
        "x=pca.explained_variance_ratio_\n",
        "# dans ce premier temps on a laissé le nombre de composante par défaut aux nombre de colonnes en entrée.ce résulat est le % de la variance expliquée, \n",
        "#si ce % est suffisament grand on va dire kue cette composante explique bien la majorité de l'information  qui se trouve dans la variable d'entrée.\n",
        "#Afficher le cumulé du % de var expli pour décider du nombre de composantes principale à garder, danc ce cas on garde 30 à 50 maximum \n",
        "fig, ax =plt.subplots(figsize=(6,4))\n",
        "ax.plot( np.cumsum(x))\n",
        "ax.set(xlabel=\"nombre de composantes\", ylabel=\"variance cumulée\", title=\"ACP-Vxxx\", ylim=(0,1),)\n"
      ],
      "execution_count": null,
      "outputs": [
        {
          "output_type": "execute_result",
          "data": {
            "text/plain": [
              "[(0.0, 1.0),\n",
              " Text(0, 0.5, 'variance cumulée'),\n",
              " Text(0.5, 0, 'nombre de composantes'),\n",
              " Text(0.5, 1.0, 'ACP-Vxxx')]"
            ]
          },
          "metadata": {
            "tags": []
          },
          "execution_count": 31
        },
        {
          "output_type": "display_data",
          "data": {
            "image/png": "[encoded data removed]",
            "text/plain": [
              "<Figure size 432x288 with 1 Axes>"
            ]
          },
          "metadata": {
            "tags": []
          }
        }
      ]
    },
    {
      "cell_type": "markdown",
      "metadata": {
        "id": "Rzrs2NUuNH2C"
      },
      "source": [
        "**Exécuter ce code pour n_component = 100** "
      ]
    },
    {
      "cell_type": "code",
      "metadata": {
        "id": "p0y0mOUrIsyL"
      },
      "source": [
        "train,pca = PCA_change(train, Vxx.columns,n_components=100, prefix='PCA_V_',rand_seed=4)"
      ],
      "execution_count": null,
      "outputs": []
    },
    {
      "cell_type": "code",
      "metadata": {
        "id": "RKN84_AB7gKa"
      },
      "source": [
        "Vxx = test.loc[:,\"V1\":\"V321\"]  \n",
        "test,pca = PCA_change(test, Vxx.columns,n_components=100, prefix='PCA_V_',rand_seed=4)"
      ],
      "execution_count": null,
      "outputs": []
    }
  ]
}