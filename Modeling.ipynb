{
  "nbformat": 4,
  "nbformat_minor": 0,
  "metadata": {
    "colab": {
      "name": "Modeling.ipynb",
      "provenance": [],
      "collapsed_sections": []
    },
    "kernelspec": {
      "name": "python3",
      "display_name": "Python 3"
    },
    "language_info": {
      "name": "python"
    }
  },
  "cells": [
    {
      "cell_type": "code",
      "metadata": {
        "id": "dHWeOs2vuHtt"
      },
      "source": [
        ""
      ],
      "execution_count": null,
      "outputs": []
    },
    {
      "cell_type": "markdown",
      "metadata": {
        "id": "ju7jX8boNxyy"
      },
      "source": [
        "## **Modelisation**"
      ]
    },
    {
      "cell_type": "markdown",
      "metadata": {
        "id": "DeP2pn7dN3vH"
      },
      "source": [
        "### **Decision Tree**"
      ]
    },
    {
      "cell_type": "markdown",
      "metadata": {
        "id": "X3xNjcLVhoEr"
      },
      "source": [
        "**Decision Tree avec class_weight= balanced sans réglage d'hyperparamètres0.605**"
      ]
    },
    {
      "cell_type": "code",
      "metadata": {
        "id": "5V9yE0wuiRcP"
      },
      "source": [
        "\n",
        "Y = train[\"isFraud\"]\n",
        "X = train.drop(columns='isFraud')\n",
        "\n",
        "X_train, X_test, Y_train, Y_test = train_test_split(X, Y, test_size=0.30, random_state=45)"
      ],
      "execution_count": null,
      "outputs": []
    },
    {
      "cell_type": "code",
      "metadata": {
        "colab": {
          "base_uri": "https://localhost:8080/"
        },
        "id": "34PnGgczJy8W",
        "outputId": "8655456f-033f-4a32-acc7-e198c916ad73"
      },
      "source": [
        "base_tree = DecisionTreeClassifier(class_weight='balanced', random_state = 42)\n",
        "base_tree.fit(X_train, Y_train)\n",
        "\n",
        "\n",
        "base_tree_train_predict = base_tree.predict_proba(X_train)\n",
        "base_tree_test_predict = base_tree.predict_proba(X_test)\n",
        "\n",
        "print('base random forest train auc:', roc_auc_score(Y_train, base_tree_train_predict[:,1]))\n",
        "\n",
        "print('base random forest test auc:', roc_auc_score(Y_test, base_tree_test_predict[:,1]))"
      ],
      "execution_count": null,
      "outputs": [
        {
          "output_type": "stream",
          "text": [
            "base random forest train auc: 1.0\n",
            "base random forest test auc: 0.7148519107400491\n"
          ],
          "name": "stdout"
        }
      ]
    },
    {
      "cell_type": "code",
      "metadata": {
        "id": "VVWtSoEtKD6W"
      },
      "source": [
        "Y_final = base_tree.predict_proba(test)\n",
        "submission_Tree = pd.DataFrame({'TransactionID':test['TransactionID'],'isFraud': Y_final[:,1]})\n"
      ],
      "execution_count": null,
      "outputs": []
    },
    {
      "cell_type": "code",
      "metadata": {
        "colab": {
          "base_uri": "https://localhost:8080/"
        },
        "id": "V82VWuJGKuZ7",
        "outputId": "3f2e2a38-6ed7-4f7a-accf-09d5781974da"
      },
      "source": [
        "filename = 'final8.csv'\n",
        "submission_Tree.to_csv(filename,index=False)\n",
        "\n",
        "print('Saved file: ' + filename)"
      ],
      "execution_count": null,
      "outputs": [
        {
          "output_type": "stream",
          "text": [
            "Saved file: final8.csv\n"
          ],
          "name": "stdout"
        }
      ]
    },
    {
      "cell_type": "markdown",
      "metadata": {
        "id": "u4ijrizGiTiK"
      },
      "source": [
        "**Decision Tree avec class_weight= balanced avec réglage d'hyperparamètres 0.831675**"
      ]
    },
    {
      "cell_type": "code",
      "metadata": {
        "id": "pVedb__6iTiL"
      },
      "source": [
        "\n",
        "Y = train[\"isFraud\"]\n",
        "X = train.drop(columns='isFraud')\n",
        "X_train, X_test, Y_train, Y_test = train_test_split(X, Y, test_size=0.30, random_state=45)"
      ],
      "execution_count": null,
      "outputs": []
    },
    {
      "cell_type": "code",
      "metadata": {
        "id": "ybEGWb1li4A2"
      },
      "source": [
        "# Function to measure the quality of a split\n",
        "criterion = ['gini', 'entropy']\n",
        "# Strategy used to choose the split at each node, random selects a set of features randomly and splits,\n",
        "splitter = ['best', 'random']\n",
        "# Maximum number of levels in tree\n",
        "max_depth = [int(x) for x in np.linspace(10, 210, num = 11)]\n",
        "max_depth.append(None)\n",
        "# Minimum number of samples required to split a node\n",
        "min_samples_split = [2, 5, 10, 15, 30, 50, 100]\n",
        "# Minimum number of samples required at each leaf node\n",
        "min_samples_leaf = [1, 2, 4, 10, 20]\n",
        "# The number of features to consider when looking for the best split\n",
        "max_features = ['auto', 'log2', None]\n",
        "# Maximum number of leaf nodes\n",
        "max_leaf_nodes = [int(x) for x in np.linspace(10, 210, num = 11)]\n",
        "[1000, 2000, 3000, 4000, 5000, 6000, 7000, 8000, 9000, 10000 , 12000, 15000, None]\n",
        "# Split threshold of a decrease of the impurity\n",
        "min_impurity_decrease = [0, 0.00005, 0.0001, 0.0002, 0.0005, 0.001, 0.0015, 0.002, 0.005, 0.01, 0.02]\n",
        "# Complexity parameter used for Minimal Cost-Complexity Pruning\n",
        "ccp_alpha = [x for x in np.linspace(0, 0.05, num = 11)]\n",
        "# Create the random grid\n",
        "random_grid = {'criterion': criterion,\n",
        "               'splitter': splitter,\n",
        "               'max_depth': max_depth,               \n",
        "               'min_samples_split': min_samples_split,\n",
        "               'min_samples_leaf': min_samples_leaf,\n",
        "               'max_features': max_features,\n",
        "               'max_leaf_nodes': max_leaf_nodes,\n",
        "               'min_impurity_decrease': min_impurity_decrease,\n",
        "               'ccp_alpha': ccp_alpha}\n",
        "\n",
        "# pprint(random_grid)"
      ],
      "execution_count": null,
      "outputs": []
    },
    {
      "cell_type": "code",
      "metadata": {
        "id": "HrurMT-fi4A4"
      },
      "source": [
        "base_tree = DecisionTreeClassifier(class_weight='balanced', random_state = 42)"
      ],
      "execution_count": null,
      "outputs": []
    },
    {
      "cell_type": "code",
      "metadata": {
        "colab": {
          "background_save": true,
          "base_uri": "https://localhost:8080/"
        },
        "id": "lrsB_3xDi4A5",
        "outputId": "a3faee7c-7545-4ec2-a0de-11922ec424d8"
      },
      "source": [
        "# Use the random grid to search for best hyperparameters\n",
        "# First create the base model to tune: base_tree\n",
        "# Random search of parameters with auc_roc scoring, using 3 fold stratified cross validation,\n",
        "skf = StratifiedKFold(n_splits=3, random_state=42)\n",
        "# search across 60 different combinations, and use all available cores\n",
        "tree_random = RandomizedSearchCV(estimator = base_tree, param_distributions = random_grid, n_iter = 60, cv = skf, scoring = 'roc_auc', verbose=0, random_state=42, n_jobs = -1)\n",
        "# Fit the random search model\n",
        "tree_random.fit(X_train, Y_train)"
      ],
      "execution_count": null,
      "outputs": [
        {
          "output_type": "stream",
          "text": [
            "/usr/local/lib/python3.7/dist-packages/sklearn/model_selection/_split.py:296: FutureWarning: Setting a random_state has no effect since shuffle is False. This will raise an error in 0.24. You should leave random_state to its default (None), or set shuffle=True.\n",
            "  FutureWarning\n"
          ],
          "name": "stderr"
        },
        {
          "output_type": "execute_result",
          "data": {
            "text/plain": [
              "RandomizedSearchCV(cv=StratifiedKFold(n_splits=3, random_state=42, shuffle=False),\n",
              "                   error_score=nan,\n",
              "                   estimator=DecisionTreeClassifier(ccp_alpha=0.0,\n",
              "                                                    class_weight='balanced',\n",
              "                                                    criterion='gini',\n",
              "                                                    max_depth=None,\n",
              "                                                    max_features=None,\n",
              "                                                    max_leaf_nodes=None,\n",
              "                                                    min_impurity_decrease=0.0,\n",
              "                                                    min_impurity_split=None,\n",
              "                                                    min_samples_leaf=1,\n",
              "                                                    min_samples_split=2,\n",
              "                                                    min_weight_fraction_leaf...\n",
              "                                        'max_leaf_nodes': [10, 30, 50, 70, 90,\n",
              "                                                           110, 130, 150, 170,\n",
              "                                                           190, 210],\n",
              "                                        'min_impurity_decrease': [0, 5e-05,\n",
              "                                                                  0.0001,\n",
              "                                                                  0.0002,\n",
              "                                                                  0.0005, 0.001,\n",
              "                                                                  0.0015, 0.002,\n",
              "                                                                  0.005, 0.01,\n",
              "                                                                  0.02],\n",
              "                                        'min_samples_leaf': [1, 2, 4, 10, 20],\n",
              "                                        'min_samples_split': [2, 5, 10, 15, 30,\n",
              "                                                              50, 100],\n",
              "                                        'splitter': ['best', 'random']},\n",
              "                   pre_dispatch='2*n_jobs', random_state=42, refit=True,\n",
              "                   return_train_score=False, scoring='roc_auc', verbose=0)"
            ]
          },
          "metadata": {
            "tags": []
          },
          "execution_count": 0
        }
      ]
    },
    {
      "cell_type": "code",
      "metadata": {
        "colab": {
          "base_uri": "https://localhost:8080/"
        },
        "id": "vjS9w4-ti4A_",
        "outputId": "6a42bb49-e04a-4d01-cf76-21cb7383e61e"
      },
      "source": [
        "best_random_tree_train_predict = tree_random.predict_proba(X_train)\n",
        "best_random_tree_test_predict = tree_random.predict_proba(X_test)\n",
        "print('best random tree train auc:', roc_auc_score(Y_train, best_random_tree_train_predict[:,1]))\n",
        "print('best random tree test auc:', roc_auc_score(Y_test, best_random_tree_test_predict[:,1]))"
      ],
      "execution_count": null,
      "outputs": [
        {
          "output_type": "stream",
          "text": [
            "best random tree train auc: 0.8224246259854169\n",
            "best random tree test auc: 0.8277030415985582\n"
          ],
          "name": "stdout"
        }
      ]
    },
    {
      "cell_type": "code",
      "metadata": {
        "id": "SanBvoK1i4BB"
      },
      "source": [
        "Y_final = tree_random.predict_proba(test)"
      ],
      "execution_count": null,
      "outputs": []
    },
    {
      "cell_type": "code",
      "metadata": {
        "id": "E_6KR1rpi4BB"
      },
      "source": [
        "submission_tree = pd.DataFrame({'TransactionID':test['TransactionID'],'isFraud': Y_final[:,1]})"
      ],
      "execution_count": null,
      "outputs": []
    },
    {
      "cell_type": "code",
      "metadata": {
        "colab": {
          "base_uri": "https://localhost:8080/"
        },
        "id": "nKXoBuXhi4BD",
        "outputId": "92bdef94-0a21-4ee8-d612-afe78bf7515b"
      },
      "source": [
        "filename = 'final10.csv'\n",
        "submission_tree.to_csv(filename,index=False)\n",
        "\n",
        "print('Saved file: ' + filename)"
      ],
      "execution_count": null,
      "outputs": [
        {
          "output_type": "stream",
          "text": [
            "Saved file: final10.csv\n"
          ],
          "name": "stdout"
        }
      ]
    },
    {
      "cell_type": "markdown",
      "metadata": {
        "id": "NelNyTdyQehM"
      },
      "source": [
        "**Decision Tree avec Resample sans réglage d'hyperparamètres 0,693844**"
      ]
    },
    {
      "cell_type": "code",
      "metadata": {
        "colab": {
          "base_uri": "https://localhost:8080/"
        },
        "id": "tg3iqXq3NEZy",
        "outputId": "9a3339a7-34b6-403d-98af-e6207defcf5c"
      },
      "source": [
        "\n",
        "# concatenate training data back together\n",
        "# separate minority and majority class\n",
        "not_fraud = train[train.isFraud==0]\n",
        "fraud = train[train.isFraud==1]\n",
        "not_fraud_downsampled = resample(not_fraud,\n",
        "                                replace = False, # sample without replacement\n",
        "                                n_samples = len(fraud), # match minority n\n",
        "                                random_state = 27)\n",
        "# combine minority and downsampled majority\n",
        "train = pd.concat([not_fraud_downsampled, fraud])    # Concatenation\n",
        "# let's check the classes counts\n",
        "train.isFraud.value_counts()"
      ],
      "execution_count": null,
      "outputs": [
        {
          "output_type": "execute_result",
          "data": {
            "text/plain": [
              "1    20663\n",
              "0    20663\n",
              "Name: isFraud, dtype: int64"
            ]
          },
          "metadata": {
            "tags": []
          },
          "execution_count": 19
        }
      ]
    },
    {
      "cell_type": "code",
      "metadata": {
        "id": "QN1rL18UQehQ"
      },
      "source": [
        "\n",
        "Y = train[\"isFraud\"]\n",
        "X = train.drop(columns='isFraud')\n",
        "\n",
        "X_train, X_test, Y_train, Y_test = train_test_split(X, Y, test_size=0.30, random_state=45)"
      ],
      "execution_count": null,
      "outputs": []
    },
    {
      "cell_type": "code",
      "metadata": {
        "colab": {
          "base_uri": "https://localhost:8080/"
        },
        "id": "Wf0Ht5xTaXG4",
        "outputId": "ac9583f2-2adc-4a27-92bc-29b59e1daefe"
      },
      "source": [
        "base_tree = DecisionTreeClassifier(class_weight='balanced', random_state = 42)\n",
        "base_tree.fit(X_train, Y_train)\n",
        "\n",
        "\n",
        "base_tree_train_predict = base_tree.predict_proba(X_train)\n",
        "base_tree_test_predict = base_tree.predict_proba(X_test)\n",
        "\n",
        "print('base random forest train auc:', roc_auc_score(Y_train, base_tree_train_predict[:,1]))\n",
        "\n",
        "print('base random forest test auc:', roc_auc_score(Y_test, base_tree_test_predict[:,1]))"
      ],
      "execution_count": null,
      "outputs": [
        {
          "output_type": "stream",
          "text": [
            "base random forest train auc: 1.0\n",
            "base random forest test auc: 0.7449588643329569\n"
          ],
          "name": "stdout"
        }
      ]
    },
    {
      "cell_type": "code",
      "metadata": {
        "id": "bY688YP-aXG7"
      },
      "source": [
        "Y_final = base_tree.predict_proba(test)\n",
        "submission_Tree2 = pd.DataFrame({'TransactionID':test['TransactionID'],'isFraud': Y_final[:,1]})\n"
      ],
      "execution_count": null,
      "outputs": []
    },
    {
      "cell_type": "code",
      "metadata": {
        "colab": {
          "base_uri": "https://localhost:8080/"
        },
        "id": "QwOXSidRaXG8",
        "outputId": "dd3e24b8-6592-4921-fc45-3176cec8b05f"
      },
      "source": [
        "filename = 'final9.csv'\n",
        "submission_Tree2.to_csv(filename,index=False)\n",
        "\n",
        "print('Saved file: ' + filename)"
      ],
      "execution_count": null,
      "outputs": [
        {
          "output_type": "stream",
          "text": [
            "Saved file: final9.csv\n"
          ],
          "name": "stdout"
        }
      ]
    },
    {
      "cell_type": "markdown",
      "metadata": {
        "id": "R48BqAYWcpbV"
      },
      "source": [
        "**Decision Tree avec Resample avec réglage d'hyperparamètres 0,839628**"
      ]
    },
    {
      "cell_type": "code",
      "metadata": {
        "colab": {
          "base_uri": "https://localhost:8080/"
        },
        "id": "KQR-N7EFs5FF",
        "outputId": "68245e5b-03cb-4b94-ddd2-507e6ade7525"
      },
      "source": [
        "\n",
        "# concatenate training data back together\n",
        "# separate minority and majority class\n",
        "not_fraud = train[train.isFraud==0]\n",
        "fraud = train[train.isFraud==1]\n",
        "not_fraud_downsampled = resample(not_fraud,\n",
        "                                replace = False, # sample without replacement\n",
        "                                n_samples = len(fraud), # match minority n\n",
        "                                random_state = 27)\n",
        "# combine minority and downsampled majority\n",
        "train = pd.concat([not_fraud_downsampled, fraud])    # Concatenation\n",
        "# let's check the classes counts\n",
        "train.isFraud.value_counts()"
      ],
      "execution_count": null,
      "outputs": [
        {
          "output_type": "execute_result",
          "data": {
            "text/plain": [
              "1    20663\n",
              "0    20663\n",
              "Name: isFraud, dtype: int64"
            ]
          },
          "metadata": {
            "tags": []
          },
          "execution_count": 3
        }
      ]
    },
    {
      "cell_type": "code",
      "metadata": {
        "id": "4-dGCKdFs5Fq"
      },
      "source": [
        "\n",
        "Y = train[\"isFraud\"]\n",
        "X = train.drop(columns='isFraud')\n",
        "\n",
        "X_train, X_test, Y_train, Y_test = train_test_split(X, Y, test_size=0.30, random_state=45)"
      ],
      "execution_count": null,
      "outputs": []
    },
    {
      "cell_type": "code",
      "metadata": {
        "id": "LzFu_EBPtTmQ"
      },
      "source": [
        "# Function to measure the quality of a split\n",
        "criterion = ['gini', 'entropy']\n",
        "# Strategy used to choose the split at each node, random selects a set of features randomly and splits,\n",
        "splitter = ['best', 'random']\n",
        "# Maximum number of levels in tree\n",
        "max_depth = [int(x) for x in np.linspace(10, 210, num = 11)]\n",
        "max_depth.append(None)\n",
        "# Minimum number of samples required to split a node\n",
        "min_samples_split = [2, 5, 10, 15, 30, 50, 100]\n",
        "# Minimum number of samples required at each leaf node\n",
        "min_samples_leaf = [1, 2, 4, 10, 20]\n",
        "# The number of features to consider when looking for the best split\n",
        "max_features = ['auto', 'log2', None]\n",
        "# Maximum number of leaf nodes\n",
        "max_leaf_nodes = [int(x) for x in np.linspace(10, 210, num = 11)]\n",
        "[1000, 2000, 3000, 4000, 5000, 6000, 7000, 8000, 9000, 10000 , 12000, 15000, None]\n",
        "# Split threshold of a decrease of the impurity\n",
        "min_impurity_decrease = [0, 0.00005, 0.0001, 0.0002, 0.0005, 0.001, 0.0015, 0.002, 0.005, 0.01, 0.02]\n",
        "# Complexity parameter used for Minimal Cost-Complexity Pruning\n",
        "ccp_alpha = [x for x in np.linspace(0, 0.05, num = 11)]\n",
        "# Create the random grid\n",
        "random_grid = {'criterion': criterion,\n",
        "               'splitter': splitter,\n",
        "               'max_depth': max_depth,               \n",
        "               'min_samples_split': min_samples_split,\n",
        "               'min_samples_leaf': min_samples_leaf,\n",
        "               'max_features': max_features,\n",
        "               'max_leaf_nodes': max_leaf_nodes,\n",
        "               'min_impurity_decrease': min_impurity_decrease,\n",
        "               'ccp_alpha': ccp_alpha}\n",
        "\n",
        "# pprint(random_grid)"
      ],
      "execution_count": null,
      "outputs": []
    },
    {
      "cell_type": "code",
      "metadata": {
        "id": "omwR7t1atTmS"
      },
      "source": [
        "base_tree = DecisionTreeClassifier(class_weight='balanced', random_state = 42)"
      ],
      "execution_count": null,
      "outputs": []
    },
    {
      "cell_type": "code",
      "metadata": {
        "colab": {
          "base_uri": "https://localhost:8080/"
        },
        "id": "pxDKI1oRtTmT",
        "outputId": "bc4ee421-89bc-4564-a3b1-42332697ce12"
      },
      "source": [
        "# Use the random grid to search for best hyperparameters\n",
        "# First create the base model to tune: base_tree\n",
        "# Random search of parameters with auc_roc scoring, using 3 fold stratified cross validation,\n",
        "skf = StratifiedKFold(n_splits=3, random_state=42)\n",
        "# search across 60 different combinations, and use all available cores\n",
        "tree_random = RandomizedSearchCV(estimator = base_tree, param_distributions = random_grid, n_iter = 60, cv = skf, scoring = 'roc_auc', verbose=0, random_state=42, n_jobs = -1)\n",
        "# Fit the random search model\n",
        "tree_random.fit(X_train, Y_train)"
      ],
      "execution_count": null,
      "outputs": [
        {
          "output_type": "stream",
          "text": [
            "/usr/local/lib/python3.7/dist-packages/sklearn/model_selection/_split.py:296: FutureWarning: Setting a random_state has no effect since shuffle is False. This will raise an error in 0.24. You should leave random_state to its default (None), or set shuffle=True.\n",
            "  FutureWarning\n"
          ],
          "name": "stderr"
        },
        {
          "output_type": "execute_result",
          "data": {
            "text/plain": [
              "RandomizedSearchCV(cv=StratifiedKFold(n_splits=3, random_state=42, shuffle=False),\n",
              "                   error_score=nan,\n",
              "                   estimator=DecisionTreeClassifier(ccp_alpha=0.0,\n",
              "                                                    class_weight='balanced',\n",
              "                                                    criterion='gini',\n",
              "                                                    max_depth=None,\n",
              "                                                    max_features=None,\n",
              "                                                    max_leaf_nodes=None,\n",
              "                                                    min_impurity_decrease=0.0,\n",
              "                                                    min_impurity_split=None,\n",
              "                                                    min_samples_leaf=1,\n",
              "                                                    min_samples_split=2,\n",
              "                                                    min_weight_fraction_leaf...\n",
              "                                        'max_leaf_nodes': [10, 30, 50, 70, 90,\n",
              "                                                           110, 130, 150, 170,\n",
              "                                                           190, 210],\n",
              "                                        'min_impurity_decrease': [0, 5e-05,\n",
              "                                                                  0.0001,\n",
              "                                                                  0.0002,\n",
              "                                                                  0.0005, 0.001,\n",
              "                                                                  0.0015, 0.002,\n",
              "                                                                  0.005, 0.01,\n",
              "                                                                  0.02],\n",
              "                                        'min_samples_leaf': [1, 2, 4, 10, 20],\n",
              "                                        'min_samples_split': [2, 5, 10, 15, 30,\n",
              "                                                              50, 100],\n",
              "                                        'splitter': ['best', 'random']},\n",
              "                   pre_dispatch='2*n_jobs', random_state=42, refit=True,\n",
              "                   return_train_score=False, scoring='roc_auc', verbose=0)"
            ]
          },
          "metadata": {
            "tags": []
          },
          "execution_count": 7
        }
      ]
    },
    {
      "cell_type": "code",
      "metadata": {
        "colab": {
          "base_uri": "https://localhost:8080/"
        },
        "id": "ETO8mZAEtTmV",
        "outputId": "cd19df82-6a97-4ff6-b8f8-dfb3d200f99a"
      },
      "source": [
        "best_random_tree_train_predict = tree_random.predict_proba(X_train)\n",
        "best_random_tree_test_predict = tree_random.predict_proba(X_test)\n",
        "print('best random tree train auc:', roc_auc_score(Y_train, best_random_tree_train_predict[:,1]))\n",
        "print('best random tree test auc:', roc_auc_score(Y_test, best_random_tree_test_predict[:,1]))"
      ],
      "execution_count": null,
      "outputs": [
        {
          "output_type": "stream",
          "text": [
            "best random tree train auc: 0.8211494760679858\n",
            "best random tree test auc: 0.8183711754475644\n"
          ],
          "name": "stdout"
        }
      ]
    },
    {
      "cell_type": "code",
      "metadata": {
        "id": "8nTZpEygtTmW"
      },
      "source": [
        "Y_final = tree_random.predict_proba(test)"
      ],
      "execution_count": null,
      "outputs": []
    },
    {
      "cell_type": "code",
      "metadata": {
        "id": "UuVH_TbHtTmX"
      },
      "source": [
        "submission_tree4 = pd.DataFrame({'TransactionID':test['TransactionID'],'isFraud': Y_final[:,1]})"
      ],
      "execution_count": null,
      "outputs": []
    },
    {
      "cell_type": "code",
      "metadata": {
        "colab": {
          "base_uri": "https://localhost:8080/"
        },
        "id": "puuh8ot0uAFw",
        "outputId": "38c60b15-124e-45d2-f62e-390faed1b325"
      },
      "source": [
        "filename = 'final12.csv'\n",
        "submission_tree4.to_csv(filename,index=False)\n",
        "\n",
        "print('Saved file: ' + filename)"
      ],
      "execution_count": null,
      "outputs": [
        {
          "output_type": "stream",
          "text": [
            "Saved file: final12.csv\n"
          ],
          "name": "stdout"
        }
      ]
    },
    {
      "cell_type": "markdown",
      "metadata": {
        "id": "QGtciwAaPh9Y"
      },
      "source": [
        "### **Random Forest**"
      ]
    },
    {
      "cell_type": "markdown",
      "metadata": {
        "id": "mdxjrabexMdR"
      },
      "source": [
        "**RandomForest avec class_weight=\"balanced\" et sans réglage d'hyperparamètres 0.854356**"
      ]
    },
    {
      "cell_type": "code",
      "metadata": {
        "id": "TehTsVicsCUR"
      },
      "source": [
        "Y=train[\"isFraud\"]\n",
        "X=train.drop(columns=[\"isFraud\"])"
      ],
      "execution_count": null,
      "outputs": []
    },
    {
      "cell_type": "code",
      "metadata": {
        "id": "UxK5qnjzsCUS"
      },
      "source": [
        "from sklearn.model_selection import train_test_split\n",
        "X_train, X_test, Y_train, Y_test = train_test_split(X, Y, test_size=0.30, random_state=45,stratify=Y)"
      ],
      "execution_count": null,
      "outputs": []
    },
    {
      "cell_type": "code",
      "metadata": {
        "colab": {
          "base_uri": "https://localhost:8080/"
        },
        "id": "padzF-YkrkdA",
        "outputId": "c9717b1f-0901-4477-ea45-757a4472c3c2"
      },
      "source": [
        "base_rf = RandomForestClassifier(class_weight='balanced', random_state=42)\n",
        "base_rf.fit(X_train, Y_train)\n",
        "base_rf_train_predict = base_rf.predict_proba(X_train)\n",
        "base_rf_test_predict = base_rf.predict_proba(X_test)\n",
        "\n",
        "print('base random forest train auc:', roc_auc_score(Y_train, base_rf_train_predict[:,1]))\n",
        "\n",
        "print('base random forest test auc:', roc_auc_score(Y_test, base_rf_test_predict[:,1]))"
      ],
      "execution_count": null,
      "outputs": [
        {
          "output_type": "stream",
          "text": [
            "base random forest train auc: 1.0\n",
            "base random forest test auc: 0.9025413904520481\n"
          ],
          "name": "stdout"
        }
      ]
    },
    {
      "cell_type": "code",
      "metadata": {
        "id": "fKKWN049sCUS"
      },
      "source": [
        "RanForestBD=base_rf.predict_proba(test)[:,1] "
      ],
      "execution_count": null,
      "outputs": []
    },
    {
      "cell_type": "code",
      "metadata": {
        "id": "J2uTA8gcsCUT"
      },
      "source": [
        "FinalRBD = pd.DataFrame({'TransactionID':test['TransactionID'],'isFraud':RanForestBD})"
      ],
      "execution_count": null,
      "outputs": []
    },
    {
      "cell_type": "code",
      "metadata": {
        "colab": {
          "base_uri": "https://localhost:8080/"
        },
        "id": "a8C95JzFsCUT",
        "outputId": "919fd8a2-cc92-4c5f-9b05-e78b4a85c88b"
      },
      "source": [
        "filename = 'FinalRBD.csv'\n",
        "\n",
        "FinalRBD.to_csv(filename,index=False)\n",
        "\n",
        "print('Saved file: ' + filename)"
      ],
      "execution_count": null,
      "outputs": [
        {
          "output_type": "stream",
          "text": [
            "Saved file: FinalRBD.csv\n"
          ],
          "name": "stdout"
        }
      ]
    },
    {
      "cell_type": "markdown",
      "metadata": {
        "id": "DTEnoH5ftjgN"
      },
      "source": [
        "**RandomForest avec class_weight=\"balanced\" et réglage des hyperparamétres 0.887373**"
      ]
    },
    {
      "cell_type": "code",
      "metadata": {
        "id": "urlMjnFgth9t"
      },
      "source": [
        "Y=train[\"isFraud\"]\n",
        "X=train.drop(columns=[\"isFraud\"])"
      ],
      "execution_count": null,
      "outputs": []
    },
    {
      "cell_type": "code",
      "metadata": {
        "id": "2FJ5GB-wth9w"
      },
      "source": [
        "from sklearn.model_selection import train_test_split\n",
        "X_train, X_test, Y_train, Y_test = train_test_split(X, Y, test_size=0.30, random_state=45,stratify=Y)"
      ],
      "execution_count": null,
      "outputs": []
    },
    {
      "cell_type": "code",
      "metadata": {
        "id": "whJVKO7xth9x"
      },
      "source": [
        "base_rf = RandomForestClassifier(class_weight='balanced', random_state=42)\n"
      ],
      "execution_count": null,
      "outputs": []
    },
    {
      "cell_type": "code",
      "metadata": {
        "id": "6UZL3LI97L0k"
      },
      "source": [
        "# Number of trees in random forest\n",
        "n_estimators = [10,20,30]\n",
        "# Function to measure the quality of a split\n",
        "criterion = ['gini', 'entropy']\n",
        "# Minimum number of samples required to split a node\n",
        "min_samples_split = [2, 5, 10, 15, 30, 50, 100]\n",
        "# Minimum number of samples required at each leaf node\n",
        "min_samples_leaf = [20,30,40]\n",
        "# The number of features to consider when looking for the best split\n",
        "max_features = [0.7,'auto', 'log2', None]\n",
        "random_grid = {'n_estimators': n_estimators,\n",
        "               'criterion': criterion,               \n",
        "               'min_samples_split': min_samples_split,\n",
        "               'min_samples_leaf': min_samples_leaf,\n",
        "               'max_features': max_features\n",
        "               \n",
        "              }\n",
        "\n",
        "# pprint(random_grid)"
      ],
      "execution_count": null,
      "outputs": []
    },
    {
      "cell_type": "code",
      "metadata": {
        "colab": {
          "base_uri": "https://localhost:8080/"
        },
        "id": "d-vGBOcB7L0o",
        "outputId": "e6babd42-686b-4bb0-d959-4d89cefd4e9c"
      },
      "source": [
        "from sklearn.model_selection import StratifiedKFold, RandomizedSearchCV\n",
        "# Use the random grid to search for best hyperparameters\n",
        "# First create the base model to tune: base_rf\n",
        "# Random search of parameters with auc_roc scoring, using 3 fold stratified cross validation,\n",
        "skf = StratifiedKFold(n_splits=3, random_state=42)\n",
        "# search across 60 different combinations, and use all available cores\n",
        "rf_random = RandomizedSearchCV(estimator = base_rf, param_distributions = random_grid, n_iter = 60, \n",
        "                               cv = skf, scoring = 'roc_auc', verbose=0, random_state=42, n_jobs = -1)\n",
        "# Fit the random search model\n",
        "rf_random.fit(X_train, Y_train)"
      ],
      "execution_count": null,
      "outputs": [
        {
          "output_type": "stream",
          "text": [
            "/usr/local/lib/python3.7/dist-packages/sklearn/model_selection/_split.py:296: FutureWarning: Setting a random_state has no effect since shuffle is False. This will raise an error in 0.24. You should leave random_state to its default (None), or set shuffle=True.\n",
            "  FutureWarning\n"
          ],
          "name": "stderr"
        },
        {
          "output_type": "execute_result",
          "data": {
            "text/plain": [
              "RandomizedSearchCV(cv=StratifiedKFold(n_splits=3, random_state=42, shuffle=False),\n",
              "                   error_score=nan,\n",
              "                   estimator=RandomForestClassifier(bootstrap=True,\n",
              "                                                    ccp_alpha=0.0,\n",
              "                                                    class_weight='balanced',\n",
              "                                                    criterion='gini',\n",
              "                                                    max_depth=None,\n",
              "                                                    max_features='auto',\n",
              "                                                    max_leaf_nodes=None,\n",
              "                                                    max_samples=None,\n",
              "                                                    min_impurity_decrease=0.0,\n",
              "                                                    min_impurity_split=None,\n",
              "                                                    min_samples_leaf=1,\n",
              "                                                    min_sample...\n",
              "                   iid='deprecated', n_iter=60, n_jobs=-1,\n",
              "                   param_distributions={'criterion': ['gini', 'entropy'],\n",
              "                                        'max_depth': [20, 50, 80, 70, None],\n",
              "                                        'max_features': [0.7, 'auto', 'log2',\n",
              "                                                         None],\n",
              "                                        'min_samples_leaf': [20, 30, 40],\n",
              "                                        'min_samples_split': [2, 5, 10, 15, 30,\n",
              "                                                              50, 100],\n",
              "                                        'n_estimators': [10, 20, 30]},\n",
              "                   pre_dispatch='2*n_jobs', random_state=42, refit=True,\n",
              "                   return_train_score=False, scoring='roc_auc', verbose=0)"
            ]
          },
          "metadata": {
            "tags": []
          },
          "execution_count": 164
        }
      ]
    },
    {
      "cell_type": "code",
      "metadata": {
        "colab": {
          "base_uri": "https://localhost:8080/"
        },
        "id": "Z0RQaJAF7L0w",
        "outputId": "c0ddcc42-bfda-44f4-d9e2-472bf10af4ef"
      },
      "source": [
        "print(rf_random.best_estimator_.get_params())"
      ],
      "execution_count": null,
      "outputs": [
        {
          "output_type": "stream",
          "text": [
            "{'bootstrap': True, 'ccp_alpha': 0.0, 'class_weight': 'balanced', 'criterion': 'gini', 'max_depth': 80, 'max_features': 0.7, 'max_leaf_nodes': None, 'max_samples': None, 'min_impurity_decrease': 0.0, 'min_impurity_split': None, 'min_samples_leaf': 20, 'min_samples_split': 5, 'min_weight_fraction_leaf': 0.0, 'n_estimators': 30, 'n_jobs': None, 'oob_score': False, 'random_state': 42, 'verbose': 0, 'warm_start': False}\n"
          ],
          "name": "stdout"
        }
      ]
    },
    {
      "cell_type": "code",
      "metadata": {
        "colab": {
          "base_uri": "https://localhost:8080/"
        },
        "id": "OcEC96W9th9x",
        "outputId": "9ec241fc-c5fa-47d9-a309-095235828be4"
      },
      "source": [
        "rf_random = RandomForestClassifier(bootstrap= True, ccp_alpha= 0.0, class_weight='balanced', criterion= 'gini', max_depth= 80, max_features= 0.7, max_leaf_nodes= None, max_samples= None, min_impurity_decrease= 0.0, min_impurity_split= None, min_samples_leaf= 20, min_samples_split= 5, min_weight_fraction_leaf= 0.0, n_estimators= 30, n_jobs= None, oob_score= False, random_state= 42, verbose= 0, warm_start= False)\n",
        "rf_random.fit(X_train, Y_train)"
      ],
      "execution_count": null,
      "outputs": [
        {
          "output_type": "execute_result",
          "data": {
            "text/plain": [
              "RandomForestClassifier(bootstrap=True, ccp_alpha=0.0, class_weight='balanced',\n",
              "                       criterion='gini', max_depth=80, max_features=0.7,\n",
              "                       max_leaf_nodes=None, max_samples=None,\n",
              "                       min_impurity_decrease=0.0, min_impurity_split=None,\n",
              "                       min_samples_leaf=20, min_samples_split=5,\n",
              "                       min_weight_fraction_leaf=0.0, n_estimators=30,\n",
              "                       n_jobs=None, oob_score=False, random_state=42, verbose=0,\n",
              "                       warm_start=False)"
            ]
          },
          "metadata": {
            "tags": []
          },
          "execution_count": 32
        }
      ]
    },
    {
      "cell_type": "code",
      "metadata": {
        "colab": {
          "base_uri": "https://localhost:8080/"
        },
        "id": "d_Rehv_p0jL3",
        "outputId": "6e1dc429-a1b8-4e63-dda1-a8df40f41020"
      },
      "source": [
        "base_rf_train_predict = rf_random.predict_proba(X_train)\n",
        "base_rf_test_predict = rf_random.predict_proba(X_test)\n",
        "\n",
        "print('base random forest train auc:', roc_auc_score(Y_train, base_rf_train_predict[:,1]))\n",
        "\n",
        "print('base random forest test auc:', roc_auc_score(Y_test, base_rf_test_predict[:,1]))"
      ],
      "execution_count": null,
      "outputs": [
        {
          "output_type": "stream",
          "text": [
            "base random forest train auc: 0.9957077369610208\n",
            "base random forest test auc: 0.9114323529288872\n"
          ],
          "name": "stdout"
        }
      ]
    },
    {
      "cell_type": "code",
      "metadata": {
        "id": "dWRyKAyzth90"
      },
      "source": [
        "RanForestBR=rf_random.predict_proba(test)[:,1] "
      ],
      "execution_count": null,
      "outputs": []
    },
    {
      "cell_type": "code",
      "metadata": {
        "id": "JRY65ptTth90"
      },
      "source": [
        "FinalRBR = pd.DataFrame({'TransactionID':test['TransactionID'],'isFraud':RanForestBR})"
      ],
      "execution_count": null,
      "outputs": []
    },
    {
      "cell_type": "code",
      "metadata": {
        "colab": {
          "base_uri": "https://localhost:8080/"
        },
        "id": "D55P0ttWth91",
        "outputId": "8170c67c-bb03-43a1-b0ef-b4d01f477e23"
      },
      "source": [
        "filename = 'FinalRBR.csv'\n",
        "\n",
        "FinalRBR.to_csv(filename,index=False)\n",
        "\n",
        "print('Saved file: ' + filename)"
      ],
      "execution_count": null,
      "outputs": [
        {
          "output_type": "stream",
          "text": [
            "Saved file: FinalRBR.csv\n"
          ],
          "name": "stdout"
        }
      ]
    },
    {
      "cell_type": "markdown",
      "metadata": {
        "id": "P85ZgMiU1Pb4"
      },
      "source": [
        "**RandomForest avec Resample et sans réglage des hyperparamétres 0.892719**"
      ]
    },
    {
      "cell_type": "code",
      "metadata": {
        "colab": {
          "base_uri": "https://localhost:8080/"
        },
        "id": "tEQXLUi31PcQ",
        "outputId": "14fd27fb-d2e5-4ecb-cced-a874bd4225be"
      },
      "source": [
        "from sklearn.utils import resample\n",
        "# concatenate training data back together\n",
        "# separate minority and majority class\n",
        "not_fraud = train[train.isFraud==0]\n",
        "fraud = train[train.isFraud==1]\n",
        "not_fraud_downsampled = resample(not_fraud,\n",
        "                                replace = False, # sample without replacement\n",
        "                                n_samples = len(fraud), # match minority n\n",
        "                                random_state = 27)\n",
        "# combine minority and downsampled majority\n",
        "train = pd.concat([not_fraud_downsampled, fraud])    # Concatenation\n",
        "# let's check the classes counts\n",
        "train.isFraud.value_counts()"
      ],
      "execution_count": null,
      "outputs": [
        {
          "output_type": "execute_result",
          "data": {
            "text/plain": [
              "1    20663\n",
              "0    20663\n",
              "Name: isFraud, dtype: int64"
            ]
          },
          "metadata": {
            "tags": []
          },
          "execution_count": 28
        }
      ]
    },
    {
      "cell_type": "code",
      "metadata": {
        "id": "uZDKaGzO1PcS"
      },
      "source": [
        "Y=train[\"isFraud\"]\n",
        "X=train.drop(columns=[\"isFraud\"])"
      ],
      "execution_count": null,
      "outputs": []
    },
    {
      "cell_type": "code",
      "metadata": {
        "id": "nXqjqjiX1PcT"
      },
      "source": [
        "from sklearn.model_selection import train_test_split\n",
        "X_train, X_test, Y_train, Y_test = train_test_split(X, Y, test_size = 0.3, random_state = 42)"
      ],
      "execution_count": null,
      "outputs": []
    },
    {
      "cell_type": "code",
      "metadata": {
        "id": "h1dEEBoO1PcU"
      },
      "source": [
        "base_rf= RandomForestClassifier(random_state=42)"
      ],
      "execution_count": null,
      "outputs": []
    },
    {
      "cell_type": "code",
      "metadata": {
        "colab": {
          "base_uri": "https://localhost:8080/"
        },
        "id": "6LHME4od1PcU",
        "outputId": "af3be0e3-3248-45a7-90a0-56640b9215f4"
      },
      "source": [
        "base_rf.fit(X_train,Y_train)"
      ],
      "execution_count": null,
      "outputs": [
        {
          "output_type": "execute_result",
          "data": {
            "text/plain": [
              "RandomForestClassifier(bootstrap=True, ccp_alpha=0.0, class_weight=None,\n",
              "                       criterion='gini', max_depth=None, max_features='auto',\n",
              "                       max_leaf_nodes=None, max_samples=None,\n",
              "                       min_impurity_decrease=0.0, min_impurity_split=None,\n",
              "                       min_samples_leaf=1, min_samples_split=2,\n",
              "                       min_weight_fraction_leaf=0.0, n_estimators=100,\n",
              "                       n_jobs=None, oob_score=False, random_state=42, verbose=0,\n",
              "                       warm_start=False)"
            ]
          },
          "metadata": {
            "tags": []
          },
          "execution_count": 32
        }
      ]
    },
    {
      "cell_type": "code",
      "metadata": {
        "colab": {
          "base_uri": "https://localhost:8080/"
        },
        "id": "D-DQxaPg1PcV",
        "outputId": "0f36bff4-282b-441d-8243-c61a9eddf406"
      },
      "source": [
        "\n",
        "base_rf_train_predict = base_rf.predict_proba(X_train)\n",
        "base_rf_test_predict = base_rf.predict_proba(X_test)\n",
        "\n",
        "print('base random forest train auc:', roc_auc_score(Y_train, base_rf_train_predict[:,1]))\n",
        "\n",
        "print('base random forest test auc:', roc_auc_score(Y_test, base_rf_test_predict[:,1]))"
      ],
      "execution_count": null,
      "outputs": [
        {
          "output_type": "stream",
          "text": [
            "base random forest train auc: 1.0\n",
            "base random forest test auc: 0.8910293157742585\n"
          ],
          "name": "stdout"
        }
      ]
    },
    {
      "cell_type": "code",
      "metadata": {
        "id": "J23zUurI1PcW"
      },
      "source": [
        "RanForestRSR=base_rf.predict_proba(test)[:,1] "
      ],
      "execution_count": null,
      "outputs": []
    },
    {
      "cell_type": "code",
      "metadata": {
        "id": "YcRrwWqY1PcW"
      },
      "source": [
        "FinalRSR = pd.DataFrame({'TransactionID':test['TransactionID'],'isFraud':RanForestRSR})"
      ],
      "execution_count": null,
      "outputs": []
    },
    {
      "cell_type": "code",
      "metadata": {
        "colab": {
          "base_uri": "https://localhost:8080/"
        },
        "id": "M5rejA5H1PcX",
        "outputId": "b44a650e-f4a4-484a-f895-7ebd6565263c"
      },
      "source": [
        "filename = 'FinalRSR.csv'\n",
        "\n",
        "FinalRSR.to_csv(filename,index=False)\n",
        "\n",
        "print('Saved file: ' + filename)"
      ],
      "execution_count": null,
      "outputs": [
        {
          "output_type": "stream",
          "text": [
            "Saved file: FinalRSR.csv\n"
          ],
          "name": "stdout"
        }
      ]
    },
    {
      "cell_type": "markdown",
      "metadata": {
        "id": "1fQce6Xdzxkf"
      },
      "source": [
        "**RandomForest avec Resample et réglage des hyperparamètres 0.901086**"
      ]
    },
    {
      "cell_type": "code",
      "metadata": {
        "colab": {
          "base_uri": "https://localhost:8080/"
        },
        "id": "p4fvNj0s55cW",
        "outputId": "01c03bf7-e0bc-45b2-a325-55bd7a5416f3"
      },
      "source": [
        "# concatenate training data back together\n",
        "# separate minority and majority class\n",
        "not_fraud = train[train.isFraud==0]\n",
        "fraud = train[train.isFraud==1]\n",
        "not_fraud_downsampled = resample(not_fraud,\n",
        "                                replace = False, # sample without replacement\n",
        "                                n_samples = len(fraud), # match minority n\n",
        "                                random_state = 27)\n",
        "# combine minority and downsampled majority\n",
        "train = pd.concat([not_fraud_downsampled, fraud])    # Concatenation\n",
        "# let's check the classes counts\n",
        "train.isFraud.value_counts()"
      ],
      "execution_count": null,
      "outputs": [
        {
          "output_type": "execute_result",
          "data": {
            "text/plain": [
              "1    20663\n",
              "0    20663\n",
              "Name: isFraud, dtype: int64"
            ]
          },
          "metadata": {
            "tags": []
          },
          "execution_count": 28
        }
      ]
    },
    {
      "cell_type": "code",
      "metadata": {
        "id": "PdQvGyaW55ce"
      },
      "source": [
        "Y=train[\"isFraud\"]\n",
        "X=train.drop(columns=[\"isFraud\"])"
      ],
      "execution_count": null,
      "outputs": []
    },
    {
      "cell_type": "code",
      "metadata": {
        "id": "-SPe0Zag55cg"
      },
      "source": [
        "from sklearn.model_selection import train_test_split\n",
        "X_train, X_test, Y_train, Y_test = train_test_split(X, Y, test_size = 0.3, random_state = 42)"
      ],
      "execution_count": null,
      "outputs": []
    },
    {
      "cell_type": "code",
      "metadata": {
        "id": "abmAFNYT55ci"
      },
      "source": [
        "base_rf= RandomForestClassifier(random_state=42)"
      ],
      "execution_count": null,
      "outputs": []
    },
    {
      "cell_type": "code",
      "metadata": {
        "id": "kPKXM49Y55ck"
      },
      "source": [
        "# Number of trees in random forest\n",
        "n_estimators = [10,20,30]\n",
        "# Minimum number of samples required at each leaf node\n",
        "min_samples_leaf = [20,30,40]\n",
        "# The number of features to consider when looking for the best split\n",
        "max_features = [0.7,'auto', 'log2', None]\n",
        "# Create the random grid\n",
        "random_grid = {'n_estimators': n_estimators,\n",
        "               'min_samples_leaf': min_samples_leaf,\n",
        "               'max_features': max_features\n",
        "\n",
        "}\n",
        "# pprint(random_grid)"
      ],
      "execution_count": null,
      "outputs": []
    },
    {
      "cell_type": "code",
      "metadata": {
        "colab": {
          "base_uri": "https://localhost:8080/"
        },
        "id": "nEIjMUU255co",
        "outputId": "84690398-abdf-4073-827d-167175aec68d"
      },
      "source": [
        "from sklearn.model_selection import StratifiedKFold, RandomizedSearchCV\n",
        "# Use the random grid to search for best hyperparameters\n",
        "# First create the base model to tune: base_rf\n",
        "# Random search of parameters with auc_roc scoring, using 3 fold stratified cross validation,\n",
        "skf = StratifiedKFold(n_splits=3, random_state=42)\n",
        "# search across 60 different combinations, and use all available cores\n",
        "rf_random = RandomizedSearchCV(estimator = base_rf, param_distributions = random_grid, n_iter = 60, \n",
        "                               cv = skf, scoring = 'roc_auc', verbose=0, random_state=42, n_jobs = -1)\n",
        "# Fit the random search model\n",
        "rf_random.fit(X_train, Y_train)"
      ],
      "execution_count": null,
      "outputs": [
        {
          "output_type": "stream",
          "text": [
            "/usr/local/lib/python3.7/dist-packages/sklearn/model_selection/_split.py:296: FutureWarning: Setting a random_state has no effect since shuffle is False. This will raise an error in 0.24. You should leave random_state to its default (None), or set shuffle=True.\n",
            "  FutureWarning\n",
            "/usr/local/lib/python3.7/dist-packages/sklearn/model_selection/_search.py:281: UserWarning: The total space of parameters 36 is smaller than n_iter=60. Running 36 iterations. For exhaustive searches, use GridSearchCV.\n",
            "  % (grid_size, self.n_iter, grid_size), UserWarning)\n"
          ],
          "name": "stderr"
        },
        {
          "output_type": "execute_result",
          "data": {
            "text/plain": [
              "RandomizedSearchCV(cv=StratifiedKFold(n_splits=3, random_state=42, shuffle=False),\n",
              "                   error_score=nan,\n",
              "                   estimator=RandomForestClassifier(bootstrap=True,\n",
              "                                                    ccp_alpha=0.0,\n",
              "                                                    class_weight=None,\n",
              "                                                    criterion='gini',\n",
              "                                                    max_depth=None,\n",
              "                                                    max_features='auto',\n",
              "                                                    max_leaf_nodes=None,\n",
              "                                                    max_samples=None,\n",
              "                                                    min_impurity_decrease=0.0,\n",
              "                                                    min_impurity_split=None,\n",
              "                                                    min_samples_leaf=1,\n",
              "                                                    min_samples_spli...\n",
              "                                                    min_weight_fraction_leaf=0.0,\n",
              "                                                    n_estimators=100,\n",
              "                                                    n_jobs=None,\n",
              "                                                    oob_score=False,\n",
              "                                                    random_state=42, verbose=0,\n",
              "                                                    warm_start=False),\n",
              "                   iid='deprecated', n_iter=60, n_jobs=-1,\n",
              "                   param_distributions={'max_features': [0.7, 'auto', 'log2',\n",
              "                                                         None],\n",
              "                                        'min_samples_leaf': [20, 30, 40],\n",
              "                                        'n_estimators': [10, 20, 30]},\n",
              "                   pre_dispatch='2*n_jobs', random_state=42, refit=True,\n",
              "                   return_train_score=False, scoring='roc_auc', verbose=0)"
            ]
          },
          "metadata": {
            "tags": []
          },
          "execution_count": 34
        }
      ]
    },
    {
      "cell_type": "code",
      "metadata": {
        "colab": {
          "base_uri": "https://localhost:8080/"
        },
        "id": "b1IeAB5855cv",
        "outputId": "44a546d4-7d4a-40b7-daf3-243d62b289f8"
      },
      "source": [
        "base_rf_train_predict = rf_random.predict_proba(X_train)\n",
        "base_rf_test_predict = rf_random.predict_proba(X_test)\n",
        "print('base random forest train auc:', roc_auc_score(Y_train, base_rf_train_predict[:,1]))\n",
        "\n",
        "print('base random forest test auc:', roc_auc_score(Y_test, base_rf_test_predict[:,1]))"
      ],
      "execution_count": null,
      "outputs": [
        {
          "output_type": "stream",
          "text": [
            "base random forest train auc: 0.9560577953634031\n",
            "base random forest test auc: 0.8891405530362251\n"
          ],
          "name": "stdout"
        }
      ]
    },
    {
      "cell_type": "code",
      "metadata": {
        "colab": {
          "base_uri": "https://localhost:8080/"
        },
        "id": "EeGSoW4C55cr",
        "outputId": "2ed548b8-dd7a-4ab4-b472-3824f29a2d81"
      },
      "source": [
        "print(rf_random.best_estimator_.get_params())"
      ],
      "execution_count": null,
      "outputs": [
        {
          "output_type": "stream",
          "text": [
            "{'bootstrap': True, 'ccp_alpha': 0.0, 'class_weight': None, 'criterion': 'gini', 'max_depth': None, 'max_features': 0.7, 'max_leaf_nodes': None, 'max_samples': None, 'min_impurity_decrease': 0.0, 'min_impurity_split': None, 'min_samples_leaf': 20, 'min_samples_split': 2, 'min_weight_fraction_leaf': 0.0, 'n_estimators': 30, 'n_jobs': None, 'oob_score': False, 'random_state': 42, 'verbose': 0, 'warm_start': False}\n"
          ],
          "name": "stdout"
        }
      ]
    },
    {
      "cell_type": "code",
      "metadata": {
        "colab": {
          "base_uri": "https://localhost:8080/"
        },
        "id": "X8nt-ajg55ct",
        "outputId": "c31444ba-ccd5-4a95-87bf-62db5f7bd8c4"
      },
      "source": [
        "rf_random= RandomForestClassifier(bootstrap= True, ccp_alpha= 0.0, class_weight=None, criterion= 'gini', max_depth= None, max_features= 0.7, max_leaf_nodes= None, max_samples= None, min_impurity_decrease=0.0, min_impurity_split= None, min_samples_leaf= 20,min_samples_split= 2, min_weight_fraction_leaf= 0.0, n_estimators=30, n_jobs= None, oob_score= False, random_state= 42, verbose= 0, warm_start= False)\n",
        "rf_random.fit(X_train, Y_train)"
      ],
      "execution_count": null,
      "outputs": [
        {
          "output_type": "execute_result",
          "data": {
            "text/plain": [
              "RandomForestClassifier(bootstrap=True, ccp_alpha=0.0, class_weight=None,\n",
              "                       criterion='gini', max_depth=None, max_features=0.7,\n",
              "                       max_leaf_nodes=None, max_samples=None,\n",
              "                       min_impurity_decrease=0.0, min_impurity_split=None,\n",
              "                       min_samples_leaf=20, min_samples_split=2,\n",
              "                       min_weight_fraction_leaf=0.0, n_estimators=30,\n",
              "                       n_jobs=None, oob_score=False, random_state=42, verbose=0,\n",
              "                       warm_start=False)"
            ]
          },
          "metadata": {
            "tags": []
          },
          "execution_count": 41
        }
      ]
    },
    {
      "cell_type": "code",
      "metadata": {
        "id": "GAnyaOFa55cz"
      },
      "source": [
        "FinalRAR=rf_random.predict_proba(test)[:,1] "
      ],
      "execution_count": null,
      "outputs": []
    },
    {
      "cell_type": "code",
      "metadata": {
        "id": "j26PdjuR55c1"
      },
      "source": [
        "RanForestRAR = pd.DataFrame({'TransactionID':test['TransactionID'],'isFraud':FinalRAR})"
      ],
      "execution_count": null,
      "outputs": []
    },
    {
      "cell_type": "code",
      "metadata": {
        "colab": {
          "base_uri": "https://localhost:8080/"
        },
        "id": "30WcsXmI55c2",
        "outputId": "c3490949-1303-4bc2-df9f-918c16d3d468"
      },
      "source": [
        "filename = 'FinalRAR.csv'\n",
        "\n",
        "RanForestRAR.to_csv(filename,index=False)\n",
        "\n",
        "print('Saved file: ' + filename)"
      ],
      "execution_count": null,
      "outputs": [
        {
          "output_type": "stream",
          "text": [
            "Saved file: FinalRAR.csv\n"
          ],
          "name": "stdout"
        }
      ]
    }
  ]
}